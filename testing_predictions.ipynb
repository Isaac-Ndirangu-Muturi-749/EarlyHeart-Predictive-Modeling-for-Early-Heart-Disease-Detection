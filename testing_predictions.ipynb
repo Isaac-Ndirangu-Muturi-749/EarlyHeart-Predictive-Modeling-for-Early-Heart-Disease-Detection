{
 "cells": [
  {
   "cell_type": "code",
   "execution_count": 17,
   "metadata": {},
   "outputs": [],
   "source": [
    "# Create a sample patient data dictionary\n",
    "sample_patient_data = {\n",
    "    \"Sex\": \"Male\",\n",
    "    \"ChestPainType\": \"Typical Angina\",\n",
    "    \"RestingBP\": 130,\n",
    "    \"Cholesterol\": 210,\n",
    "    \"FastingBS\": 0,\n",
    "    \"RestingECG\": \"ST-T wave abnormality\",\n",
    "    \"MaxHR\": 160,\n",
    "    \"ExerciseAngina\": \"No\",\n",
    "    \"Oldpeak\": 1.2,\n",
    "    \"ST_Slope\": \"Upsloping\"\n",
    "}"
   ]
  },
  {
   "cell_type": "code",
   "execution_count": 18,
   "metadata": {},
   "outputs": [
    {
     "name": "stdout",
     "output_type": "stream",
     "text": [
      "{'Has_heart_disease': False, 'Heart disease Probability': 0.32267639058994724}\n",
      "\n",
      "The patient does not have heart disease.\n"
     ]
    }
   ],
   "source": [
    "import requests, json\n",
    "\n",
    "url = \"http://localhost:9696/app\"\n",
    "\n",
    "response = requests.post(url, json=sample_patient_data).json()\n",
    "print(response)\n",
    "print()\n",
    "\n",
    "# Print the predicted outcome for the sample patient\n",
    "if response['Has_heart_disease'] == True:\n",
    "    print(\"The patient has heart disease.\")\n",
    "else:\n",
    "    print(\"The patient does not have heart disease.\")"
   ]
  },
  {
   "cell_type": "code",
   "execution_count": null,
   "metadata": {},
   "outputs": [],
   "source": []
  }
 ],
 "metadata": {
  "kernelspec": {
   "display_name": "learn-env",
   "language": "python",
   "name": "python3"
  },
  "language_info": {
   "codemirror_mode": {
    "name": "ipython",
    "version": 3
   },
   "file_extension": ".py",
   "mimetype": "text/x-python",
   "name": "python",
   "nbconvert_exporter": "python",
   "pygments_lexer": "ipython3",
   "version": "3.8.5"
  }
 },
 "nbformat": 4,
 "nbformat_minor": 2
}
